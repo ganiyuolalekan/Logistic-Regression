{
 "cells": [
  {
   "cell_type": "markdown",
   "metadata": {},
   "source": [
    "# Logistic Regression Scratch Implementation Preview\n",
    "\n",
    "Logistic regression is the appropriate regression analysis to conduct when the dependent variable is dichotomous (binary).  Like all regression analyses, the logistic regression is a predictive analysis.  Logistic regression is used to describe data and to explain the relationship between one dependent binary variable and one or more nominal, ordinal, interval or ratio-level independent variables. [statisticsolutions](https://www.statisticssolutions.com/what-is-logistic-regression/)\n",
    "\n",
    "<img src=\"images/LR.png\" style=\"width:450px;height:300px;\">\n",
    "\n",
    "To give a quick preview of how the logistic regression algorithm works we will be making some imports which includes: \n",
    "\n",
    "- The `sklearn.datasets` used to import necessary data to test and observe the behaviour of the algorithm.\n",
    "- The `matplotlib.pyplot` used to visualize the data structures and scan for *linearity* in the data, as will be seen later in this presentation.\n",
    "- The `logistic_regression.LogisticRegression` which is the Logistic Regression class implemented in `logistic_regression.py`. which contains all the necessary functions needed to carry out the operations.\n",
    "\n",
    "**Note** This notebook was created to evaluate the Logistic Regression algorithm implemented at [logistic_regression.py](logistic_regression.py)\n"
   ]
  },
  {
   "cell_type": "code",
   "execution_count": 1,
   "metadata": {},
   "outputs": [],
   "source": [
    "from sklearn import datasets\n",
    "import matplotlib.pyplot as plt\n",
    "from logistic_regression import LogisticRegression as LR"
   ]
  },
  {
   "cell_type": "markdown",
   "metadata": {},
   "source": [
    "### The Iris Data-Set\n",
    "\n",
    "This data sets consists of 3 different types of irises’ (Setosa, Versicolour, and Virginica) petal and sepal length, stored in a 150x4 numpy.ndarray\n",
    "\n",
    "The rows being the samples and the columns being: Sepal Length, Sepal Width, Petal Length and Petal Width."
   ]
  },
  {
   "cell_type": "code",
   "execution_count": 2,
   "metadata": {},
   "outputs": [],
   "source": [
    "iris = datasets.load_iris()"
   ]
  },
  {
   "cell_type": "markdown",
   "metadata": {},
   "source": [
    "### Data Analysis\n",
    "\n",
    "To analyse the data, we'll be loading all the iris dataset into it's `X` & `y` variables each."
   ]
  },
  {
   "cell_type": "code",
   "execution_count": 3,
   "metadata": {},
   "outputs": [],
   "source": [
    "X, y = iris.data, iris.target"
   ]
  },
  {
   "cell_type": "markdown",
   "metadata": {},
   "source": [
    "The relationship between the Setosa, Versicolour, and Virginica sepal length\n",
    "\n",
    "For the sake of simplicity we'll be using only the Sepal Length and Sepal Width columns to plot the relationship between all 3 different types of irises\n",
    "\n",
    "The **Setosa** labelled **blue** \n",
    "\n",
    "The **Versicolour** labelled **red** \n",
    "\n",
    "The **Virginica** labelled **green** "
   ]
  },
  {
   "cell_type": "code",
   "execution_count": 4,
   "metadata": {},
   "outputs": [
    {
     "data": {
      "image/png": "[encoded data removed]",
      "text/plain": [
       "<Figure size 720x432 with 1 Axes>"
      ]
     },
     "metadata": {
      "needs_background": "light"
     },
     "output_type": "display_data"
    }
   ],
   "source": [
    "plt.figure(figsize=(10, 6))\n",
    "plt.scatter(X[:50, :1], X[:50, 1:2], color='b', label='Setosa')\n",
    "plt.scatter(X[50:100, :1], X[50:100, 1:2], color='r', label='Versicolour')\n",
    "plt.scatter(X[100:150, :1], X[100:150, 1:2], color='g', label='Virginica')\n",
    "plt.legend()\n",
    "plt.show()"
   ]
  },
  {
   "cell_type": "markdown",
   "metadata": {},
   "source": [
    "### Binary Classification\n",
    "\n",
    "Given that logistic regression is a binary classification task, we have to select two out of the three irises that can be perfect for classification\n",
    "\n",
    "From the plot **above** we tell the **Setosa** iris is distinct unlike the rough mixture between the **Versicolour** and **Virginica** irises. So either of both the **Versicolour** and **Virginica** irises could be selected\n",
    "\n",
    "Thus, our choice for this preview would be the **Setosa** and **Versicolour** irises"
   ]
  },
  {
   "cell_type": "code",
   "execution_count": 5,
   "metadata": {},
   "outputs": [
    {
     "data": {
      "image/png": "[encoded data removed]",
      "text/plain": [
       "<Figure size 720x432 with 1 Axes>"
      ]
     },
     "metadata": {
      "needs_background": "light"
     },
     "output_type": "display_data"
    }
   ],
   "source": [
    "plt.figure(figsize=(10, 6))\n",
    "plt.scatter(X[:50, :1], X[:50, 1:2], color='b', label='Setosa')\n",
    "plt.scatter(X[50:100, :1], X[50:100, 1:2], color='r', label='Versicolour')\n",
    "plt.legend()\n",
    "plt.show()"
   ]
  },
  {
   "cell_type": "markdown",
   "metadata": {},
   "source": [
    "**Now**, structuring the data accordingly!"
   ]
  },
  {
   "cell_type": "code",
   "execution_count": 6,
   "metadata": {},
   "outputs": [],
   "source": [
    "X = iris.data[:100, :2]\n",
    "y = iris.target.reshape(150, 1)[:100, :]"
   ]
  },
  {
   "cell_type": "markdown",
   "metadata": {},
   "source": [
    "### Initializing The Logistic Regression Model\n",
    "\n",
    "```python\n",
    "class LogisticRegression:\n",
    "    def __init__(self, x, y, alpha=0.01, num_iter=1000, verbose=False, lambd=0.0):\n",
    "```\n",
    "\n",
    "\n",
    "At initilization of the Linear Regression model:\n",
    "- `x` will be the input feature which should be a ($X^{[m]}$, n) matrix.\n",
    "- `y` will be the target feature which should be a ($Y^{[m]}$, 1) matrix.\n",
    "\n",
    "`alpha` is the learning rate and `num_iter` the number of iterations used in gradient descent. `verbose` if True will produce the detailed output of the cost function for diagnostic purposes, and `lambd` is the parameter used to perform regularization (L2 Regularization) on the model, it is of no effect if `lambd` is set to 0.0.\n",
    "\n",
    "**Note** \"$m$\" is the number of training examples and \"$n$\" is the number of features."
   ]
  },
  {
   "cell_type": "code",
   "execution_count": 7,
   "metadata": {},
   "outputs": [],
   "source": [
    "model = LR(X, y, verbose=True)"
   ]
  },
  {
   "cell_type": "markdown",
   "metadata": {},
   "source": [
    "We the perform a split operation on the datasets using the builtin method `split_data()`.\n",
    "\n",
    "At default it sets the training data to 80% and the test data at 20% and this could be altered by re-setting `split_data()`.\n",
    "\n",
    "```python\n",
    "def split_data(self, train_size=0.8, test_size=0.2, shuffle=True):\n",
    "    pass\n",
    "```"
   ]
  },
  {
   "cell_type": "code",
   "execution_count": 8,
   "metadata": {},
   "outputs": [],
   "source": [
    "model.split_data()"
   ]
  },
  {
   "cell_type": "markdown",
   "metadata": {},
   "source": [
    "### Fitting The Model\n",
    "\n",
    "```python\n",
    "def fit(timeit=True, count_at=100):\n",
    "    pass\n",
    "```\n",
    "\n",
    "The argument `timeit` time's how long it takes to train the model and the `count_at` produces the cost function and value of theta at every 100 iteration (default)."
   ]
  },
  {
   "cell_type": "code",
   "execution_count": 9,
   "metadata": {},
   "outputs": [
    {
     "name": "stdout",
     "output_type": "stream",
     "text": [
      "cost 1: 0.6931471805599453, theta: [[ 0.000125  ]\n",
      " [ 0.00298125]\n",
      " [-0.0012125 ]]\n",
      "cost 201: 0.5814719847524366, theta: [[-0.03269633]\n",
      " [ 0.25145785]\n",
      " [-0.39646684]]\n",
      "cost 401: 0.5000734953466291, theta: [[-0.06469203]\n",
      " [ 0.45286584]\n",
      " [-0.74395158]]\n",
      "cost 601: 0.43858510276013457, theta: [[-0.0937233 ]\n",
      " [ 0.6283167 ]\n",
      " [-1.04568166]]\n",
      "cost 801: 0.39110787722576823, theta: [[-0.12031784]\n",
      " [ 0.78277115]\n",
      " [-1.31060139]]\n",
      "Ran in 0.31secs\n"
     ]
    }
   ],
   "source": [
    "model.fit(count_at=200)"
   ]
  },
  {
   "cell_type": "markdown",
   "metadata": {},
   "source": [
    "After fitting the model we can check for it's assumed accuracy from training and testing"
   ]
  },
  {
   "cell_type": "code",
   "execution_count": 10,
   "metadata": {},
   "outputs": [
    {
     "data": {
      "text/plain": [
       "100.0"
      ]
     },
     "execution_count": 10,
     "metadata": {},
     "output_type": "execute_result"
    }
   ],
   "source": [
    "model.accuracy()"
   ]
  },
  {
   "cell_type": "markdown",
   "metadata": {},
   "source": [
    "**Now** to show the boundary between both irises."
   ]
  },
  {
   "cell_type": "code",
   "execution_count": 11,
   "metadata": {},
   "outputs": [
    {
     "data": {
      "image/png": "[encoded data removed]",
      "text/plain": [
       "<Figure size 720x432 with 1 Axes>"
      ]
     },
     "metadata": {
      "needs_background": "light"
     },
     "output_type": "display_data"
    }
   ],
   "source": [
    "model.plot_boundary(label_1='Setosa', label_2='Versicolour')"
   ]
  },
  {
   "cell_type": "code",
   "execution_count": null,
   "metadata": {},
   "outputs": [],
   "source": []
  }
 ],
 "metadata": {
  "kernelspec": {
   "display_name": "Python 3",
   "language": "python",
   "name": "python3"
  },
  "language_info": {
   "codemirror_mode": {
    "name": "ipython",
    "version": 3
   },
   "file_extension": ".py",
   "mimetype": "text/x-python",
   "name": "python",
   "nbconvert_exporter": "python",
   "pygments_lexer": "ipython3",
   "version": "3.6.8"
  }
 },
 "nbformat": 4,
 "nbformat_minor": 4
}
